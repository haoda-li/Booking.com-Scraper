{
 "cells": [
  {
   "cell_type": "code",
   "execution_count": 1,
   "metadata": {},
   "outputs": [],
   "source": [
    "from get_data import *"
   ]
  },
  {
   "cell_type": "code",
   "execution_count": 2,
   "metadata": {},
   "outputs": [
    {
     "name": "stdout",
     "output_type": "stream",
     "text": [
      "---write to: 2019-07-30_0.json---\n",
      "---write to: 2019-07-30_1.json---\n",
      "---write to: 2019-07-30_2.json---\n",
      "---write to: 2019-07-30_3.json---\n",
      "---write to: 2019-07-30_4.json---\n",
      "---write to: 2019-07-30_5.json---\n",
      "---write to: 2019-07-30_6.json---\n",
      "---write to: 2019-07-30_7.json---\n",
      "---write to: 2019-07-30_8.json---\n",
      "---write to: 2019-07-30_9.json---\n",
      "---write to: 2019-07-30_10.json---\n",
      "---write to: 2019-07-30_11.json---\n",
      "---write to: 2019-07-30_12.json---\n",
      "---write to: 2019-07-30_13.json---\n",
      "---write to: 2019-07-30_14.json---\n",
      "---write to: 2019-07-30_15.json---\n",
      "---write to: 2019-07-30_16.json---\n",
      "---write to: 2019-07-30_17.json---\n",
      "---write to: 2019-07-30_18.json---\n",
      "---write to: 2019-07-30_19.json---\n",
      "---write to: 2019-07-30_20.json---\n",
      "---write to: 2019-07-30_21.json---\n",
      "---write to: 2019-07-30_22.json---\n",
      "---write to: 2019-07-30_23.json---\n",
      "---write to: 2019-07-30_24.json---\n",
      "---write to: 2019-07-30_25.json---\n",
      "---write to: 2019-07-30_26.json---\n",
      "---write to: 2019-07-30_27.json---\n",
      "---write to: 2019-07-30_28.json---\n"
     ]
    }
   ],
   "source": [
    "get_availabilities_by_url_file(\"AUSTIN_LINKS.txt\", \"2019-07-30\", \"2019-07-31\", \"./chromedriver\")"
   ]
  },
  {
   "cell_type": "code",
   "execution_count": 3,
   "metadata": {
    "scrolled": true
   },
   "outputs": [
    {
     "name": "stdout",
     "output_type": "stream",
     "text": [
      "---write to: i0.json---\n",
      "---write to: i1.json---\n",
      "---write to: i2.json---\n",
      "---write to: i3.json---\n",
      "---write to: i4.json---\n",
      "---write to: i5.json---\n",
      "---write to: i6.json---\n",
      "---write to: i7.json---\n",
      "---write to: i8.json---\n",
      "---write to: i9.json---\n",
      "---write to: i10.json---\n",
      "---write to: i11.json---\n",
      "---write to: i12.json---\n",
      "---write to: i13.json---\n",
      "---write to: i14.json---\n",
      "---write to: i15.json---\n",
      "---write to: i16.json---\n",
      "---write to: i17.json---\n",
      "---write to: i18.json---\n",
      "---write to: i19.json---\n",
      "---write to: i20.json---\n",
      "---write to: i21.json---\n",
      "---write to: i22.json---\n",
      "---write to: i23.json---\n",
      "---write to: i24.json---\n",
      "---write to: i25.json---\n",
      "---write to: i26.json---\n",
      "---write to: i27.json---\n"
     ]
    }
   ],
   "source": [
    "get_listings_information_by_url_file(\"AUSTIN_LINKS.txt\", 0)"
   ]
  }
 ],
 "metadata": {
  "hide_input": false,
  "kernelspec": {
   "display_name": "Python 3",
   "language": "python",
   "name": "python3"
  },
  "language_info": {
   "codemirror_mode": {
    "name": "ipython",
    "version": 3
   },
   "file_extension": ".py",
   "mimetype": "text/x-python",
   "name": "python",
   "nbconvert_exporter": "python",
   "pygments_lexer": "ipython3",
   "version": "3.7.3"
  }
 },
 "nbformat": 4,
 "nbformat_minor": 2
}
