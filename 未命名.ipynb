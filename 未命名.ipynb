{
 "cells": [
  {
   "cell_type": "code",
   "execution_count": 5,
   "metadata": {},
   "outputs": [],
   "source": [
    "from get_availability import *\n",
    "from get_all_links_script import *"
   ]
  },
  {
   "cell_type": "code",
   "execution_count": 6,
   "metadata": {},
   "outputs": [
    {
     "name": "stdout",
     "output_type": "stream",
     "text": [
      "---write to a2019-07-270.txt---\n",
      "---write to a2019-07-271.txt---\n",
      "---write to a2019-07-272.txt---\n",
      "---write to a2019-07-273.txt---\n",
      "---write to a2019-07-274.txt---\n",
      "---write to a2019-07-275.txt---\n",
      "---write to a2019-07-276.txt---\n",
      "---write to a2019-07-277.txt---\n",
      "---write to a2019-07-278.txt---\n",
      "---write to a2019-07-279.txt---\n",
      "---write to a2019-07-2710.txt---\n",
      "---write to a2019-07-2711.txt---\n",
      "---write to a2019-07-2712.txt---\n",
      "---write to a2019-07-2713.txt---\n",
      "---write to a2019-07-2714.txt---\n",
      "---write to a2019-07-2715.txt---\n",
      "---write to a2019-07-2716.txt---\n",
      "---write to a2019-07-2717.txt---\n",
      "---write to a2019-07-2718.txt---\n",
      "---write to a2019-07-2719.txt---\n",
      "---write to a2019-07-2720.txt---\n",
      "---write to a2019-07-2721.txt---\n",
      "---write to a2019-07-2722.txt---\n",
      "---write to a2019-07-2723.txt---\n",
      "---write to a2019-07-2724.txt---\n",
      "---write to a2019-07-2725.txt---\n",
      "---write to a2019-07-2726.txt---\n",
      "---write to a2019-07-2727.txt---\n",
      "---write to a2019-07-2728.txt---\n",
      "---write to a2019-07-2729.txt---\n",
      "---write to a2019-07-2730.txt---\n",
      "---write to a2019-07-2731.txt---\n",
      "---write to a2019-07-2732.txt---\n",
      "---write to a2019-07-2733.txt---\n",
      "---write to a2019-07-2734.txt---\n",
      "---write to a2019-07-2735.txt---\n",
      "---write to a2019-07-2736.txt---\n",
      "---write to a2019-07-2737.txt---\n",
      "---write to a2019-07-2738.txt---\n",
      "---write to a2019-07-2739.txt---\n",
      "---write to a2019-07-2740.txt---\n",
      "---write to a2019-07-2741.txt---\n",
      "---write to a2019-07-2742.txt---\n",
      "---write to a2019-07-2743.txt---\n",
      "---write to a2019-07-2744.txt---\n",
      "---write to a2019-07-2745.txt---\n",
      "---write to a2019-07-2746.txt---\n",
      "---write to a2019-07-2747.txt---\n",
      "---write to a2019-07-2748.txt---\n",
      "---write to a2019-07-2749.txt---\n",
      "---write to a2019-07-2750.txt---\n",
      "---write to a2019-07-2751.txt---\n",
      "---write to a2019-07-2752.txt---\n",
      "---write to a2019-07-2753.txt---\n",
      "---write to a2019-07-2754.txt---\n",
      "---write to a2019-07-2755.txt---\n",
      "---write to a2019-07-2756.txt---\n",
      "---write to a2019-07-2757.txt---\n",
      "---write to a2019-07-2758.txt---\n",
      "---write to a2019-07-2759.txt---\n"
     ]
    }
   ],
   "source": [
    "driver = prepare_driver(\"./chromedriver\")\n",
    "get_availabilities_from_listings(\"./links.txt\", \"2019-07-27\", driver)"
   ]
  }
 ],
 "metadata": {
  "hide_input": false,
  "kernelspec": {
   "display_name": "Python 3",
   "language": "python",
   "name": "python3"
  },
  "language_info": {
   "codemirror_mode": {
    "name": "ipython",
    "version": 3
   },
   "file_extension": ".py",
   "mimetype": "text/x-python",
   "name": "python",
   "nbconvert_exporter": "python",
   "pygments_lexer": "ipython3",
   "version": "3.7.3"
  }
 },
 "nbformat": 4,
 "nbformat_minor": 2
}
