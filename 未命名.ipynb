{
 "cells": [
  {
   "cell_type": "code",
   "execution_count": 1,
   "metadata": {},
   "outputs": [],
   "source": [
    "from get_availability import *\n",
    "from get_all_links_script import *"
   ]
  },
  {
   "cell_type": "code",
   "execution_count": 2,
   "metadata": {
    "scrolled": true
   },
   "outputs": [
    {
     "name": "stdout",
     "output_type": "stream",
     "text": [
      "---write to: 2019-07-28_0.txt---\n",
      "---write to: 2019-07-28_1.txt---\n",
      "---write to: 2019-07-28_2.txt---\n",
      "---write to: 2019-07-28_3.txt---\n",
      "---write to: 2019-07-28_4.txt---\n",
      "---write to: 2019-07-28_5.txt---\n",
      "---write to: 2019-07-28_6.txt---\n",
      "---write to: 2019-07-28_7.txt---\n",
      "---write to: 2019-07-28_8.txt---\n",
      "---write to: 2019-07-28_9.txt---\n",
      "---write to: 2019-07-28_10.txt---\n",
      "---write to: 2019-07-28_11.txt---\n",
      "---write to: 2019-07-28_12.txt---\n",
      "---write to: 2019-07-28_13.txt---\n",
      "---write to: 2019-07-28_14.txt---\n",
      "---write to: 2019-07-28_15.txt---\n",
      "---write to: 2019-07-28_16.txt---\n",
      "---write to: 2019-07-28_17.txt---\n",
      "---write to: 2019-07-28_18.txt---\n",
      "---write to: 2019-07-28_19.txt---\n",
      "---write to: 2019-07-28_20.txt---\n",
      "---write to: 2019-07-28_21.txt---\n",
      "---write to: 2019-07-28_22.txt---\n",
      "---write to: 2019-07-28_23.txt---\n",
      "---write to: 2019-07-28_24.txt---\n",
      "---write to: 2019-07-28_25.txt---\n",
      "---write to: 2019-07-28_26.txt---\n",
      "---write to: 2019-07-28_27.txt---\n",
      "---write to: 2019-07-28_28.txt---\n",
      "---write to: 2019-07-28_29.txt---\n",
      "---write to: 2019-07-28_30.txt---\n",
      "---write to: 2019-07-28_31.txt---\n",
      "---write to: 2019-07-28_32.txt---\n",
      "---write to: 2019-07-28_33.txt---\n",
      "---write to: 2019-07-28_34.txt---\n",
      "---write to: 2019-07-28_35.txt---\n",
      "---write to: 2019-07-28_36.txt---\n",
      "---write to: 2019-07-28_37.txt---\n",
      "---write to: 2019-07-28_38.txt---\n",
      "---write to: 2019-07-28_39.txt---\n",
      "---write to: 2019-07-28_40.txt---\n",
      "---write to: 2019-07-28_41.txt---\n",
      "---write to: 2019-07-28_42.txt---\n",
      "---write to: 2019-07-28_43.txt---\n",
      "---write to: 2019-07-28_44.txt---\n",
      "---write to: 2019-07-28_45.txt---\n",
      "---write to: 2019-07-28_46.txt---\n",
      "---write to: 2019-07-28_47.txt---\n",
      "---write to: 2019-07-28_48.txt---\n",
      "---write to: 2019-07-28_49.txt---\n",
      "---write to: 2019-07-28_50.txt---\n",
      "---write to: 2019-07-28_51.txt---\n",
      "---write to: 2019-07-28_52.txt---\n",
      "---write to: 2019-07-28_53.txt---\n",
      "---write to: 2019-07-28_54.txt---\n",
      "---write to: 2019-07-28_55.txt---\n",
      "---write to: 2019-07-28_56.txt---\n",
      "---write to: 2019-07-28_57.txt---\n",
      "---write to: 2019-07-28_58.txt---\n",
      "---write to: 2019-07-28_59.txt---\n"
     ]
    }
   ],
   "source": [
    "driver = prepare_driver(\"./chromedriver\")\n",
    "get_availabilities_from_listings(\"./links.txt\", \"2019-07-28\",\"2019-07-29\", driver)"
   ]
  }
 ],
 "metadata": {
  "hide_input": false,
  "kernelspec": {
   "display_name": "Python 3",
   "language": "python",
   "name": "python3"
  },
  "language_info": {
   "codemirror_mode": {
    "name": "ipython",
    "version": 3
   },
   "file_extension": ".py",
   "mimetype": "text/x-python",
   "name": "python",
   "nbconvert_exporter": "python",
   "pygments_lexer": "ipython3",
   "version": "3.7.3"
  }
 },
 "nbformat": 4,
 "nbformat_minor": 2
}
