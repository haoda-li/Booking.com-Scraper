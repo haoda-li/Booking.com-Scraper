{
 "cells": [
  {
   "cell_type": "code",
   "execution_count": 1,
   "metadata": {},
   "outputs": [],
   "source": [
    "from get_availability import *\n",
    "from get_all_links_script import *"
   ]
  },
  {
   "cell_type": "code",
   "execution_count": 2,
   "metadata": {
    "scrolled": true
   },
   "outputs": [
    {
     "name": "stdout",
     "output_type": "stream",
     "text": [
      "---write to: 2019-07-29_0.json---\n",
      "---write to: 2019-07-29_1.json---\n",
      "---write to: 2019-07-29_2.json---\n",
      "---write to: 2019-07-29_3.json---\n",
      "---write to: 2019-07-29_4.json---\n",
      "---write to: 2019-07-29_5.json---\n",
      "---write to: 2019-07-29_6.json---\n",
      "---write to: 2019-07-29_7.json---\n",
      "---write to: 2019-07-29_8.json---\n",
      "---write to: 2019-07-29_9.json---\n",
      "---write to: 2019-07-29_10.json---\n",
      "---write to: 2019-07-29_11.json---\n",
      "---write to: 2019-07-29_12.json---\n",
      "---write to: 2019-07-29_13.json---\n",
      "---write to: 2019-07-29_14.json---\n",
      "---write to: 2019-07-29_15.json---\n",
      "---write to: 2019-07-29_16.json---\n",
      "---write to: 2019-07-29_17.json---\n",
      "---write to: 2019-07-29_18.json---\n",
      "---write to: 2019-07-29_19.json---\n",
      "---write to: 2019-07-29_20.json---\n",
      "---write to: 2019-07-29_21.json---\n",
      "---write to: 2019-07-29_22.json---\n",
      "---write to: 2019-07-29_23.json---\n",
      "---write to: 2019-07-29_24.json---\n",
      "---write to: 2019-07-29_25.json---\n",
      "---write to: 2019-07-29_26.json---\n",
      "---write to: 2019-07-29_27.json---\n",
      "---write to: 2019-07-29_28.json---\n"
     ]
    }
   ],
   "source": [
    "driver = prepare_driver(\"./chromedriver\")\n",
    "get_availabilities_from_listings(\"./links.txt\", \"2019-07-29\",\"2019-07-30\", driver)"
   ]
  }
 ],
 "metadata": {
  "hide_input": false,
  "kernelspec": {
   "display_name": "Python 3",
   "language": "python",
   "name": "python3"
  },
  "language_info": {
   "codemirror_mode": {
    "name": "ipython",
    "version": 3
   },
   "file_extension": ".py",
   "mimetype": "text/x-python",
   "name": "python",
   "nbconvert_exporter": "python",
   "pygments_lexer": "ipython3",
   "version": "3.7.3"
  }
 },
 "nbformat": 4,
 "nbformat_minor": 2
}
