{
 "cells": [
  {
   "cell_type": "code",
   "execution_count": 1,
   "metadata": {},
   "outputs": [],
   "source": [
    "from get_availability import *\n",
    "from get_all_links_script import *"
   ]
  },
  {
   "cell_type": "code",
   "execution_count": 2,
   "metadata": {},
   "outputs": [
    {
     "name": "stdout",
     "output_type": "stream",
     "text": [
      "---write to a2019-07-260.txt---\n",
      "---write to a2019-07-261.txt---\n",
      "---write to a2019-07-262.txt---\n",
      "---write to a2019-07-263.txt---\n",
      "---write to a2019-07-264.txt---\n",
      "---write to a2019-07-265.txt---\n",
      "---write to a2019-07-266.txt---\n",
      "---write to a2019-07-267.txt---\n",
      "---write to a2019-07-268.txt---\n",
      "---write to a2019-07-269.txt---\n",
      "---write to a2019-07-2610.txt---\n",
      "---write to a2019-07-2611.txt---\n",
      "---write to a2019-07-2612.txt---\n",
      "---write to a2019-07-2613.txt---\n",
      "---write to a2019-07-2614.txt---\n",
      "---write to a2019-07-2615.txt---\n",
      "---write to a2019-07-2616.txt---\n",
      "---write to a2019-07-2617.txt---\n",
      "---write to a2019-07-2618.txt---\n",
      "---write to a2019-07-2619.txt---\n",
      "---write to a2019-07-2620.txt---\n",
      "---write to a2019-07-2621.txt---\n",
      "---write to a2019-07-2622.txt---\n",
      "---write to a2019-07-2623.txt---\n",
      "---write to a2019-07-2624.txt---\n",
      "---write to a2019-07-2625.txt---\n",
      "---write to a2019-07-2626.txt---\n",
      "---write to a2019-07-2627.txt---\n",
      "---write to a2019-07-2628.txt---\n",
      "---write to a2019-07-2629.txt---\n",
      "---write to a2019-07-2630.txt---\n",
      "---write to a2019-07-2631.txt---\n",
      "---write to a2019-07-2632.txt---\n",
      "---write to a2019-07-2633.txt---\n",
      "---write to a2019-07-2634.txt---\n",
      "---write to a2019-07-2635.txt---\n",
      "---write to a2019-07-2636.txt---\n",
      "---write to a2019-07-2637.txt---\n",
      "---write to a2019-07-2638.txt---\n",
      "---write to a2019-07-2639.txt---\n",
      "---write to a2019-07-2640.txt---\n",
      "---write to a2019-07-2641.txt---\n",
      "---write to a2019-07-2642.txt---\n",
      "---write to a2019-07-2643.txt---\n",
      "---write to a2019-07-2644.txt---\n",
      "---write to a2019-07-2645.txt---\n",
      "---write to a2019-07-2646.txt---\n",
      "---write to a2019-07-2647.txt---\n",
      "---write to a2019-07-2648.txt---\n",
      "---write to a2019-07-2649.txt---\n",
      "---write to a2019-07-2650.txt---\n",
      "---write to a2019-07-2651.txt---\n",
      "---write to a2019-07-2652.txt---\n",
      "---write to a2019-07-2653.txt---\n",
      "---write to a2019-07-2654.txt---\n",
      "---write to a2019-07-2655.txt---\n",
      "---write to a2019-07-2656.txt---\n",
      "---write to a2019-07-2657.txt---\n",
      "---write to a2019-07-2658.txt---\n",
      "---write to a2019-07-2659.txt---\n"
     ]
    }
   ],
   "source": [
    "driver = prepare_driver(\"./chromedriver\")\n",
    "get_availabilities_from_listings(\"./links.txt\", \"2019-07-26\", driver)"
   ]
  }
 ],
 "metadata": {
  "hide_input": false,
  "kernelspec": {
   "display_name": "Python 3",
   "language": "python",
   "name": "python3"
  },
  "language_info": {
   "codemirror_mode": {
    "name": "ipython",
    "version": 3
   },
   "file_extension": ".py",
   "mimetype": "text/x-python",
   "name": "python",
   "nbconvert_exporter": "python",
   "pygments_lexer": "ipython3",
   "version": "3.7.3"
  }
 },
 "nbformat": 4,
 "nbformat_minor": 2
}
