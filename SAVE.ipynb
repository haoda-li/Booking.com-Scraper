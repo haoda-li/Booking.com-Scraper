{
 "cells": [
  {
   "cell_type": "code",
   "execution_count": null,
   "metadata": {},
   "outputs": [],
   "source": [
    "from datetime import date\n",
    "from datetime import timedelta\n",
    "today = date.today()\n",
    "tomorrow = today + timedelta(days=1)\n",
    "today_s = today.strftime(\"%Y-%m-%d\")\n",
    "tmr_s = tomorrow.strftime(\"%Y-%m-%d\")\n",
    "\n",
    "from get_data import *\n",
    "from format_raw_info import *"
   ]
  },
  {
   "cell_type": "code",
   "execution_count": null,
   "metadata": {},
   "outputs": [],
   "source": [
    "get_availabilities_by_url_file(\"AUSTIN_LINKS.txt\", today_s, tmr_s, \"./chromedriver\")\n",
    "save_raw_avalibility(\"./avalibility/\", \"./data/\", today_s, tmr_s)"
   ]
  }
 ],
 "metadata": {
  "hide_input": false,
  "kernelspec": {
   "display_name": "Python 3",
   "language": "python",
   "name": "python3"
  },
  "language_info": {
   "codemirror_mode": {
    "name": "ipython",
    "version": 3
   },
   "file_extension": ".py",
   "mimetype": "text/x-python",
   "name": "python",
   "nbconvert_exporter": "python",
   "pygments_lexer": "ipython3",
   "version": "3.7.3"
  }
 },
 "nbformat": 4,
 "nbformat_minor": 2
}
